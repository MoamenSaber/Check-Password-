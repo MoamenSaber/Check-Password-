{
 "cells": [
  {
   "cell_type": "code",
   "execution_count": null,
   "id": "99c01028",
   "metadata": {},
   "outputs": [],
   "source": [
    "pip install maskpass"
   ]
  },
  {
   "cell_type": "code",
   "execution_count": null,
   "id": "4ccc3919",
   "metadata": {},
   "outputs": [],
   "source": [
    "import maskpass\n",
    "password = input (maskpass.askpass(mask='*') )"
   ]
  },
  {
   "cell_type": "code",
   "execution_count": null,
   "id": "8a376b59",
   "metadata": {},
   "outputs": [],
   "source": [
    "small_L = 0\n",
    "capital_L = 0\n",
    "special_L = 0\n",
    "special_Letter = ['*' , '#' , '&' ,'$' , '_' , '@']\n",
    "numbers = 0\n",
    "\n",
    "password = input (\"Please Enter your Password : \")\n",
    "if len(password) >= 8 :\n",
    "    for L in password:\n",
    "        if L.islower():\n",
    "            small_L = small_L + 1\n",
    "        elif L.isupper():\n",
    "            capital_L = capital_L + 1\n",
    "        elif L.isdigit():\n",
    "            numbers = numbers + 1\n",
    "        elif L in special_Letter:\n",
    "            special_L = special_L + 1\n",
    "    if (small_L >= 1 and capital_L >= 1 and special_L >=1 and numbers >=1 ) :\n",
    "        print (\"Strong Password\")\n",
    "    else : \n",
    "        print (\"Weak Password \")\n",
    "        print (\">>> Password must contain Capital , Small , Special Letters and Numbers !\")\n",
    "else : \n",
    "    print (\"Invalid Password \")\n",
    "    print (\">>> Password must be more than 8 charecter !\")\n"
   ]
  },
  {
   "cell_type": "markdown",
   "id": "6e905991",
   "metadata": {},
   "source": []
  },
  {
   "cell_type": "markdown",
   "id": "4196dc71",
   "metadata": {},
   "source": []
  },
  {
   "cell_type": "markdown",
   "id": "7d5df5fd",
   "metadata": {},
   "source": []
  },
  {
   "cell_type": "markdown",
   "id": "99878599",
   "metadata": {},
   "source": []
  },
  {
   "cell_type": "markdown",
   "id": "d18e9405",
   "metadata": {},
   "source": []
  }
 ],
 "metadata": {
  "kernelspec": {
   "display_name": "Python 3 (ipykernel)",
   "language": "python",
   "name": "python3"
  },
  "language_info": {
   "codemirror_mode": {
    "name": "ipython",
    "version": 3
   },
   "file_extension": ".py",
   "mimetype": "text/x-python",
   "name": "python",
   "nbconvert_exporter": "python",
   "pygments_lexer": "ipython3",
   "version": "3.9.13"
  }
 },
 "nbformat": 4,
 "nbformat_minor": 5
}
